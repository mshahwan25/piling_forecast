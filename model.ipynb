{
 "cells": [
  {
   "cell_type": "code",
   "execution_count": 1,
   "id": "86782abd",
   "metadata": {},
   "outputs": [],
   "source": [
    "import numpy as np\n",
    "import pandas as pd\n",
    "import matplotlib.pyplot as plt\n",
    "import seaborn as sb\n",
    "sb.set()"
   ]
  },
  {
   "cell_type": "code",
   "execution_count": 2,
   "id": "066ab847",
   "metadata": {},
   "outputs": [],
   "source": [
    "df_ptj = pd.read_csv('ptj.csv')\n",
    "df_egd = pd.read_csv('egydrill.csv')\n",
    "df_pwr = pd.read_csv('power.csv')"
   ]
  },
  {
   "cell_type": "code",
   "execution_count": 5,
   "id": "1c4e551c",
   "metadata": {},
   "outputs": [
    {
     "name": "stdout",
     "output_type": "stream",
     "text": [
      "<class 'pandas.core.frame.DataFrame'>\n",
      "RangeIndex: 275 entries, 0 to 274\n",
      "Data columns (total 3 columns):\n",
      " #   Column                  Non-Null Count  Dtype  \n",
      "---  ------                  --------------  -----  \n",
      " 0   Date                    275 non-null    object \n",
      " 1   number of piles         275 non-null    int64  \n",
      " 2   daily rate per machine  275 non-null    float64\n",
      "dtypes: float64(1), int64(1), object(1)\n",
      "memory usage: 6.6+ KB\n"
     ]
    }
   ],
   "source": [
    "df_ptj.info()"
   ]
  },
  {
   "cell_type": "code",
   "execution_count": 6,
   "id": "ca01d610",
   "metadata": {},
   "outputs": [
    {
     "name": "stdout",
     "output_type": "stream",
     "text": [
      "<class 'pandas.core.frame.DataFrame'>\n",
      "RangeIndex: 275 entries, 0 to 274\n",
      "Data columns (total 3 columns):\n",
      " #   Column                  Non-Null Count  Dtype  \n",
      "---  ------                  --------------  -----  \n",
      " 0   Date                    61 non-null     object \n",
      " 1   number of piles         61 non-null     float64\n",
      " 2   daily rate per machine  61 non-null     float64\n",
      "dtypes: float64(2), object(1)\n",
      "memory usage: 6.6+ KB\n"
     ]
    }
   ],
   "source": [
    "df_egd.info()"
   ]
  },
  {
   "cell_type": "code",
   "execution_count": 7,
   "id": "2fbdf265",
   "metadata": {},
   "outputs": [
    {
     "name": "stdout",
     "output_type": "stream",
     "text": [
      "<class 'pandas.core.frame.DataFrame'>\n",
      "RangeIndex: 275 entries, 0 to 274\n",
      "Data columns (total 3 columns):\n",
      " #   Column                  Non-Null Count  Dtype  \n",
      "---  ------                  --------------  -----  \n",
      " 0   Date                    34 non-null     object \n",
      " 1   number of piles         34 non-null     float64\n",
      " 2   daily rate per machine  34 non-null     float64\n",
      "dtypes: float64(2), object(1)\n",
      "memory usage: 6.6+ KB\n"
     ]
    }
   ],
   "source": [
    "df_pwr.info()"
   ]
  },
  {
   "cell_type": "code",
   "execution_count": 11,
   "id": "4f94c942",
   "metadata": {},
   "outputs": [
    {
     "name": "stdout",
     "output_type": "stream",
     "text": [
      "       number of piles  daily rate per machine\n",
      "count       275.000000              275.000000\n",
      "mean          2.781818                0.927273\n",
      "std           1.299788                0.433263\n",
      "min           0.000000                0.000000\n",
      "25%           2.000000                0.666667\n",
      "50%           3.000000                1.000000\n",
      "75%           4.000000                1.333333\n",
      "max           6.000000                2.000000\n",
      "--------------------------------------------------------------------------------\n",
      "       number of piles  daily rate per machine\n",
      "count        61.000000               61.000000\n",
      "mean          3.180328                0.636066\n",
      "std           1.231641                0.246328\n",
      "min           0.000000                0.000000\n",
      "25%           2.000000                0.400000\n",
      "50%           3.000000                0.600000\n",
      "75%           4.000000                0.800000\n",
      "max           5.000000                1.000000\n",
      "--------------------------------------------------------------------------------\n",
      "       number of piles  daily rate per machine\n",
      "count        34.000000               34.000000\n",
      "mean          2.294118                1.147059\n",
      "std           0.871412                0.435706\n",
      "min           1.000000                0.500000\n",
      "25%           2.000000                1.000000\n",
      "50%           2.000000                1.000000\n",
      "75%           3.000000                1.500000\n",
      "max           4.000000                2.000000\n",
      "--------------------------------------------------------------------------------\n"
     ]
    }
   ],
   "source": [
    "#displaying the summary statistics for all companies\n",
    "print (df_ptj.describe())\n",
    "print (80*'-')\n",
    "print (df_egd.describe())\n",
    "print (80*'-')\n",
    "print (df_pwr.describe())\n",
    "print (80*'-')"
   ]
  },
  {
   "cell_type": "code",
   "execution_count": 29,
   "id": "7cdd0da8",
   "metadata": {},
   "outputs": [],
   "source": [
    "#generating confidence interval for all 3 companies\n",
    "\n",
    "ptj_m,egd_m,pwr_m = [],[],[]\n",
    "\n",
    "for i in range (10000):\n",
    "    dfs = df_ptj.sample(200,replace=True)\n",
    "    dfs_mean = dfs['daily rate per machine'].mean()\n",
    "    ptj_m.append(dfs_mean)\n",
    "\n",
    "for i in range (10000):\n",
    "    dfs = df_egd.sample(200,replace=True)\n",
    "    dfs_mean = dfs['daily rate per machine'].mean()\n",
    "    egd_m.append(dfs_mean)\n",
    "    \n",
    "for i in range (10000):\n",
    "    dfs = df_pwr.sample(200, replace=True)\n",
    "    dfs_mean = dfs['daily rate per machine'].mean()\n",
    "    pwr_m.append(dfs_mean)\n"
   ]
  },
  {
   "cell_type": "code",
   "execution_count": 69,
   "id": "06a44356",
   "metadata": {},
   "outputs": [],
   "source": [
    "df_mean = pd.DataFrame()\n",
    "df_mean['petrojet'] = ptj_m\n",
    "df_mean['egy drill'] = egd_m\n",
    "df_mean['power'] = pwr_m\n",
    "df_mean['average daily piles per machine'] = (df_mean['petrojet']*3+df_mean['egy drill']*5+df_mean['power']*2)/10"
   ]
  },
  {
   "cell_type": "code",
   "execution_count": 82,
   "id": "ca83a859",
   "metadata": {},
   "outputs": [
    {
     "data": {
      "image/png": "[encoded data removed]",
      "text/plain": [
       "<Figure size 1080x360 with 2 Axes>"
      ]
     },
     "metadata": {},
     "output_type": "display_data"
    }
   ],
   "source": [
    "figure,ax = plt.subplots(nrows=1,ncols=2, figsize=(15,5));\n",
    "#plt.figure(figsize=(10,5));\n",
    "ax[0].hist(df_mean['petrojet'],alpha=0.8, color='g', label='petrojet');\n",
    "ax[0].hist(df_mean['egy drill'],alpha=0.8, color='r', label='egy drill');\n",
    "ax[0].hist(df_mean['power'],alpha=0.8, color='y', label='power');\n",
    "ax[0].legend();\n",
    "\n",
    "ax[1].hist(df_mean['average daily piles per machine'],label='total average daily piles per machine');\n",
    "ax[1].legend(loc=2);"
   ]
  },
  {
   "cell_type": "code",
   "execution_count": 88,
   "id": "cb377677",
   "metadata": {},
   "outputs": [
    {
     "name": "stdout",
     "output_type": "stream",
     "text": [
      "132.8739403213596 122.03872777805735\n"
     ]
    }
   ],
   "source": [
    "#based on 80% confidence interval\n",
    "lower_limit  = np.percentile(df_mean['average daily piles per machine'],10)\n",
    "higher_limit = np.percentile(df_mean['average daily piles per machine'],90)\n",
    "piles_rem = 1639-589\n",
    "days_remain_lower = piles_rem/(10*lower_limit)\n",
    "days_remain_higher = piles_rem/(10*higher_limit)\n",
    "print (days_remain_lower,days_remain_higher)"
   ]
  },
  {
   "cell_type": "code",
   "execution_count": 92,
   "id": "0b940fe9",
   "metadata": {},
   "outputs": [
    {
     "name": "stdout",
     "output_type": "stream",
     "text": [
      "petrojet portion\n",
      "369.73044217284826 339.5807535658645\n",
      "----------------------------------------\n",
      "egy drill portion\n",
      "422.28398940250344 387.8488189865162\n",
      "----------------------------------------\n",
      "power portion\n",
      "304.8840750754499 280.02228692857136\n",
      "----------------------------------------\n"
     ]
    }
   ],
   "source": [
    "#number of piles done by every company at higher / lower limit\n",
    "\n",
    "ptj_piles_low = days_remain_lower*3*df_mean['petrojet'].mean()\n",
    "ptj_piles_high = days_remain_higher*3*df_mean['petrojet'].mean()\n",
    "\n",
    "egd_piles_low = days_remain_lower*5*df_mean['egy drill'].mean()\n",
    "egd_piles_high = days_remain_higher*5*df_mean['egy drill'].mean()\n",
    "\n",
    "pwr_piles_low = days_remain_lower*2*df_mean['power'].mean()\n",
    "pwr_piles_high = days_remain_higher*2*df_mean['power'].mean()\n",
    "\n",
    "print ('petrojet portion')\n",
    "print (ptj_piles_low,ptj_piles_high)\n",
    "print (40*'-')\n",
    "print ('egy drill portion')\n",
    "print (egd_piles_low,egd_piles_high)\n",
    "print (40*'-')\n",
    "print ('power portion')\n",
    "print (pwr_piles_low,pwr_piles_high)\n",
    "print (40*'-')"
   ]
  }
 ],
 "metadata": {
  "kernelspec": {
   "display_name": "Python 3 (ipykernel)",
   "language": "python",
   "name": "python3"
  },
  "language_info": {
   "codemirror_mode": {
    "name": "ipython",
    "version": 3
   },
   "file_extension": ".py",
   "mimetype": "text/x-python",
   "name": "python",
   "nbconvert_exporter": "python",
   "pygments_lexer": "ipython3",
   "version": "3.10.1"
  },
  "toc": {
   "base_numbering": 1,
   "nav_menu": {},
   "number_sections": true,
   "sideBar": true,
   "skip_h1_title": false,
   "title_cell": "Table of Contents",
   "title_sidebar": "Contents",
   "toc_cell": false,
   "toc_position": {},
   "toc_section_display": true,
   "toc_window_display": false
  },
  "varInspector": {
   "cols": {
    "lenName": 16,
    "lenType": 16,
    "lenVar": 40
   },
   "kernels_config": {
    "python": {
     "delete_cmd_postfix": "",
     "delete_cmd_prefix": "del ",
     "library": "var_list.py",
     "varRefreshCmd": "print(var_dic_list())"
    },
    "r": {
     "delete_cmd_postfix": ") ",
     "delete_cmd_prefix": "rm(",
     "library": "var_list.r",
     "varRefreshCmd": "cat(var_dic_list()) "
    }
   },
   "types_to_exclude": [
    "module",
    "function",
    "builtin_function_or_method",
    "instance",
    "_Feature"
   ],
   "window_display": false
  }
 },
 "nbformat": 4,
 "nbformat_minor": 5
}
